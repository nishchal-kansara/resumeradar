{
  "nbformat": 4,
  "nbformat_minor": 0,
  "metadata": {
    "colab": {
      "provenance": [],
      "toc_visible": true
    },
    "kernelspec": {
      "name": "python3",
      "display_name": "Python 3"
    },
    "language_info": {
      "name": "python"
    }
  },
  "cells": [
    {
      "cell_type": "markdown",
      "source": [
        "# **ResumeRadar**\n",
        "### Job-Ready Resume AI Mentor - \"Get the Right Job with the Right Resume\"\n",
        "### Team: Insight Strikers"
      ],
      "metadata": {
        "id": "6Cx8OEQAgddO"
      }
    },
    {
      "cell_type": "markdown",
      "source": [
        "# Resume Text from PDF"
      ],
      "metadata": {
        "id": "kCUB8iCQsGZY"
      }
    },
    {
      "cell_type": "code",
      "execution_count": 8,
      "metadata": {
        "colab": {
          "base_uri": "https://localhost:8080/"
        },
        "id": "OVHytpfVoJJa",
        "outputId": "4fd93f2e-cf6e-49be-baa5-1f758e45b0f1"
      },
      "outputs": [
        {
          "output_type": "stream",
          "name": "stdout",
          "text": [
            "Requirement already satisfied: pdfplumber in /usr/local/lib/python3.11/dist-packages (0.11.7)\n",
            "Requirement already satisfied: pytesseract in /usr/local/lib/python3.11/dist-packages (0.3.13)\n",
            "Requirement already satisfied: pdf2image in /usr/local/lib/python3.11/dist-packages (1.17.0)\n",
            "Requirement already satisfied: pdfminer.six==20250506 in /usr/local/lib/python3.11/dist-packages (from pdfplumber) (20250506)\n",
            "Requirement already satisfied: Pillow>=9.1 in /usr/local/lib/python3.11/dist-packages (from pdfplumber) (11.2.1)\n",
            "Requirement already satisfied: pypdfium2>=4.18.0 in /usr/local/lib/python3.11/dist-packages (from pdfplumber) (4.30.1)\n",
            "Requirement already satisfied: charset-normalizer>=2.0.0 in /usr/local/lib/python3.11/dist-packages (from pdfminer.six==20250506->pdfplumber) (3.4.2)\n",
            "Requirement already satisfied: cryptography>=36.0.0 in /usr/local/lib/python3.11/dist-packages (from pdfminer.six==20250506->pdfplumber) (43.0.3)\n",
            "Requirement already satisfied: packaging>=21.3 in /usr/local/lib/python3.11/dist-packages (from pytesseract) (24.2)\n",
            "Requirement already satisfied: cffi>=1.12 in /usr/local/lib/python3.11/dist-packages (from cryptography>=36.0.0->pdfminer.six==20250506->pdfplumber) (1.17.1)\n",
            "Requirement already satisfied: pycparser in /usr/local/lib/python3.11/dist-packages (from cffi>=1.12->cryptography>=36.0.0->pdfminer.six==20250506->pdfplumber) (2.22)\n"
          ]
        }
      ],
      "source": [
        "# pdfplumber: Plumb a PDF for detailed information about each text character, rectangle, and line.\n",
        "# pytesseract: OCR tool for python, it will recognize and “read” the text embedded in images.\n",
        "# pdf2image: Convert PDFs into Pillow images.\n",
        "\n",
        "%pip install pdfplumber pytesseract pdf2image"
      ]
    },
    {
      "cell_type": "code",
      "source": [
        "# Import Libraries\n",
        "import pdfplumber\n",
        "import pytesseract\n",
        "from pdf2image import convert_from_path"
      ],
      "metadata": {
        "id": "-27q7PqKpH83"
      },
      "execution_count": 9,
      "outputs": []
    },
    {
      "cell_type": "code",
      "source": [
        "# Text Extraction\n",
        "def extract_text_from_pdf(pdf_path):\n",
        "    text = \"\"\n",
        "    try:\n",
        "        # Try direct text extraction\n",
        "        with pdfplumber.open(pdf_path) as pdf:\n",
        "            for page in pdf.pages:\n",
        "                page_text = page.extract_text()\n",
        "                if page_text:\n",
        "                    text += page_text\n",
        "\n",
        "        if text.strip():\n",
        "            return text.strip()\n",
        "    except Exception as e:\n",
        "        print(f\"Direct text extraction failed: {e}\")\n",
        "\n",
        "    # Fallback to OCR for image-based PDFs\n",
        "    print(\"Falling back to OCR for image-based PDF.\")\n",
        "    try:\n",
        "        images = convert_from_path(pdf_path)\n",
        "        for image in images:\n",
        "            page_text = pytesseract.image_to_string(image)\n",
        "            text += page_text + \"\\n\"\n",
        "    except Exception as e:\n",
        "        print(f\"OCR failed: {e}\")\n",
        "\n",
        "    return text.strip()"
      ],
      "metadata": {
        "id": "AvKTedzIpd1p"
      },
      "execution_count": 10,
      "outputs": []
    },
    {
      "cell_type": "code",
      "source": [
        "# Connect Google Drive\n",
        "from google.colab import drive\n",
        "drive.mount('/content/drive')\n",
        "\n",
        "# File Path\n",
        "pdf_path = \"/content/drive/MyDrive/Python for Data Science/resume_ai/resume.pdf\"\n",
        "resume_text = extract_text_from_pdf(pdf_path)\n",
        "\n",
        "# Extract Text from PDF\n",
        "print(\"\\nExtracted Text from PDF:\")\n",
        "print(resume_text)"
      ],
      "metadata": {
        "colab": {
          "base_uri": "https://localhost:8080/"
        },
        "id": "jGqdG3KSpoN2",
        "outputId": "6aaeb42d-ddbb-4ea1-efa9-4e53595dd1ba"
      },
      "execution_count": 11,
      "outputs": [
        {
          "output_type": "stream",
          "name": "stdout",
          "text": [
            "Drive already mounted at /content/drive; to attempt to forcibly remount, call drive.mount(\"/content/drive\", force_remount=True).\n"
          ]
        }
      ]
    },
    {
      "cell_type": "markdown",
      "source": [
        "# Job Description"
      ],
      "metadata": {
        "id": "YAxk9L0o6lqS"
      }
    },
    {
      "cell_type": "code",
      "source": [
        "# JD Sourced From: https://www.linkedin.com/jobs/view/4162961553\n",
        "\n",
        "job_description = \"\"\"\n",
        "We are searching for a motivated and experienced AI/ML trainer with at least 1.5 years of experience teaching professionals or students the fundamentals of AI and ML. In addition to having actual experience with AI/ML technologies, the ideal applicant should be able to conduct interesting and useful training sessions.\n",
        "\n",
        "Key Responsibilities:\n",
        "\n",
        "Lead interactive AI/ML training sessions for professionals, students, or business clients.\n",
        "Create and construct projects, assignments, training materials, and tests for courses on artificial intelligence and machine learning.\n",
        "Clearly describe the many AI/ML principles, such as reinforcement learning, computer vision, NLP, deep learning, supervised learning, and unsupervised learning.\n",
        "Help students use Python, TensorFlow, PyTorch, Scikit-learn, OpenCV, NLP packages, and other tools to create machine learning models.\n",
        "Give students advice on practical projects and assist them in creating AI/ML applications.\n",
        "Keep abreast of the most recent developments in AI and ML, and adapt the training materials accordingly.\n",
        "Organize interactive workshops, debugging activities, and live coding sessions.\n",
        "Evaluate students' progress, provide them constructive criticism, and assist them in developing their abilities.\n",
        "Mentor students in real-world industry difficulties, AI/ML job opportunities, and certifications.\n",
        "\n",
        "Required Skills:\n",
        "\n",
        "Excellent understanding of AI, data science, machine learning, and deep learning.\n",
        "Expertise in Python, NumPy, Pandas, Matplotlib, TensorFlow, PyTorch, OpenCV, and natural language processing equipment.\n",
        "Proficiency in offering AI/ML training or coaching to students.\n",
        "Excellent presentation and communication abilities.\n",
        "The capacity to communicate intricate AI/ML ideas in an understandable and captivating way.\n",
        "Prior knowledge of Cloud AI platforms (AWS/GCP/Azure), Google Colab, Kaggle, and Jupyter Notebooks is advantageous.\n",
        "Prior experience deploying AI projects with Flask, FastAPI, or Streamlit is advantageous.\n",
        "It is advantageous to have knowledge of ChatGPT, Generative AI, or LLMs (Large Language Models).\n",
        "\n",
        "Qualifications:\n",
        "\n",
        "A bachelor's or master's degree in data science, artificial intelligence, computer science, or a similar discipline.\n",
        "\n",
        "Preferable are AI/ML certifications (such as TensorFlow Developer, AWS AI, Coursera ML, etc.)\n",
        "\"\"\""
      ],
      "metadata": {
        "id": "Ct-jq2DG6oI6"
      },
      "execution_count": 12,
      "outputs": []
    },
    {
      "cell_type": "markdown",
      "source": [
        "# Google GenerativeAI API"
      ],
      "metadata": {
        "id": "QrLOg4nQsMOr"
      }
    },
    {
      "cell_type": "code",
      "source": [
        "%pip install google.generativeai"
      ],
      "metadata": {
        "id": "WaOiYf1osTXr",
        "colab": {
          "base_uri": "https://localhost:8080/"
        },
        "outputId": "92990951-1955-46e1-821d-9b77fcbbc89d"
      },
      "execution_count": 13,
      "outputs": [
        {
          "output_type": "stream",
          "name": "stdout",
          "text": [
            "Requirement already satisfied: google.generativeai in /usr/local/lib/python3.11/dist-packages (0.8.5)\n",
            "Requirement already satisfied: google-ai-generativelanguage==0.6.15 in /usr/local/lib/python3.11/dist-packages (from google.generativeai) (0.6.15)\n",
            "Requirement already satisfied: google-api-core in /usr/local/lib/python3.11/dist-packages (from google.generativeai) (2.25.0)\n",
            "Requirement already satisfied: google-api-python-client in /usr/local/lib/python3.11/dist-packages (from google.generativeai) (2.172.0)\n",
            "Requirement already satisfied: google-auth>=2.15.0 in /usr/local/lib/python3.11/dist-packages (from google.generativeai) (2.38.0)\n",
            "Requirement already satisfied: protobuf in /usr/local/lib/python3.11/dist-packages (from google.generativeai) (5.29.5)\n",
            "Requirement already satisfied: pydantic in /usr/local/lib/python3.11/dist-packages (from google.generativeai) (2.11.5)\n",
            "Requirement already satisfied: tqdm in /usr/local/lib/python3.11/dist-packages (from google.generativeai) (4.67.1)\n",
            "Requirement already satisfied: typing-extensions in /usr/local/lib/python3.11/dist-packages (from google.generativeai) (4.14.0)\n",
            "Requirement already satisfied: proto-plus<2.0.0dev,>=1.22.3 in /usr/local/lib/python3.11/dist-packages (from google-ai-generativelanguage==0.6.15->google.generativeai) (1.26.1)\n",
            "Requirement already satisfied: googleapis-common-protos<2.0.0,>=1.56.2 in /usr/local/lib/python3.11/dist-packages (from google-api-core->google.generativeai) (1.70.0)\n",
            "Requirement already satisfied: requests<3.0.0,>=2.18.0 in /usr/local/lib/python3.11/dist-packages (from google-api-core->google.generativeai) (2.32.3)\n",
            "Requirement already satisfied: cachetools<6.0,>=2.0.0 in /usr/local/lib/python3.11/dist-packages (from google-auth>=2.15.0->google.generativeai) (5.5.2)\n",
            "Requirement already satisfied: pyasn1-modules>=0.2.1 in /usr/local/lib/python3.11/dist-packages (from google-auth>=2.15.0->google.generativeai) (0.4.2)\n",
            "Requirement already satisfied: rsa<5,>=3.1.4 in /usr/local/lib/python3.11/dist-packages (from google-auth>=2.15.0->google.generativeai) (4.9.1)\n",
            "Requirement already satisfied: httplib2<1.0.0,>=0.19.0 in /usr/local/lib/python3.11/dist-packages (from google-api-python-client->google.generativeai) (0.22.0)\n",
            "Requirement already satisfied: google-auth-httplib2<1.0.0,>=0.2.0 in /usr/local/lib/python3.11/dist-packages (from google-api-python-client->google.generativeai) (0.2.0)\n",
            "Requirement already satisfied: uritemplate<5,>=3.0.1 in /usr/local/lib/python3.11/dist-packages (from google-api-python-client->google.generativeai) (4.2.0)\n",
            "Requirement already satisfied: annotated-types>=0.6.0 in /usr/local/lib/python3.11/dist-packages (from pydantic->google.generativeai) (0.7.0)\n",
            "Requirement already satisfied: pydantic-core==2.33.2 in /usr/local/lib/python3.11/dist-packages (from pydantic->google.generativeai) (2.33.2)\n",
            "Requirement already satisfied: typing-inspection>=0.4.0 in /usr/local/lib/python3.11/dist-packages (from pydantic->google.generativeai) (0.4.1)\n",
            "Requirement already satisfied: grpcio<2.0.0,>=1.33.2 in /usr/local/lib/python3.11/dist-packages (from google-api-core[grpc]!=2.0.*,!=2.1.*,!=2.10.*,!=2.2.*,!=2.3.*,!=2.4.*,!=2.5.*,!=2.6.*,!=2.7.*,!=2.8.*,!=2.9.*,<3.0.0dev,>=1.34.1->google-ai-generativelanguage==0.6.15->google.generativeai) (1.73.0)\n",
            "Requirement already satisfied: grpcio-status<2.0.0,>=1.33.2 in /usr/local/lib/python3.11/dist-packages (from google-api-core[grpc]!=2.0.*,!=2.1.*,!=2.10.*,!=2.2.*,!=2.3.*,!=2.4.*,!=2.5.*,!=2.6.*,!=2.7.*,!=2.8.*,!=2.9.*,<3.0.0dev,>=1.34.1->google-ai-generativelanguage==0.6.15->google.generativeai) (1.71.0)\n",
            "Requirement already satisfied: pyparsing!=3.0.0,!=3.0.1,!=3.0.2,!=3.0.3,<4,>=2.4.2 in /usr/local/lib/python3.11/dist-packages (from httplib2<1.0.0,>=0.19.0->google-api-python-client->google.generativeai) (3.2.3)\n",
            "Requirement already satisfied: pyasn1<0.7.0,>=0.6.1 in /usr/local/lib/python3.11/dist-packages (from pyasn1-modules>=0.2.1->google-auth>=2.15.0->google.generativeai) (0.6.1)\n",
            "Requirement already satisfied: charset-normalizer<4,>=2 in /usr/local/lib/python3.11/dist-packages (from requests<3.0.0,>=2.18.0->google-api-core->google.generativeai) (3.4.2)\n",
            "Requirement already satisfied: idna<4,>=2.5 in /usr/local/lib/python3.11/dist-packages (from requests<3.0.0,>=2.18.0->google-api-core->google.generativeai) (3.10)\n",
            "Requirement already satisfied: urllib3<3,>=1.21.1 in /usr/local/lib/python3.11/dist-packages (from requests<3.0.0,>=2.18.0->google-api-core->google.generativeai) (2.4.0)\n",
            "Requirement already satisfied: certifi>=2017.4.17 in /usr/local/lib/python3.11/dist-packages (from requests<3.0.0,>=2.18.0->google-api-core->google.generativeai) (2025.4.26)\n"
          ]
        }
      ]
    },
    {
      "cell_type": "code",
      "source": [
        "# Import Library\n",
        "import google.generativeai as genai\n",
        "\n",
        "# Set-Up API Key\n",
        "api_key = \"#\"\n",
        "\n",
        "# Configure GenerativeAI\n",
        "genai.configure(api_key=api_key)\n",
        "\n",
        "# Use the model\n",
        "model = genai.GenerativeModel(\"gemini-2.0-flash\")\n",
        "response = model.generate_content(\"Who is Owner of Google?\")"
      ],
      "metadata": {
        "id": "ynmTn-gmse3g"
      },
      "execution_count": 14,
      "outputs": []
    },
    {
      "cell_type": "code",
      "source": [
        "# Print Response\n",
        "print(response)"
      ],
      "metadata": {
        "id": "H2JnVHjFvHtE",
        "colab": {
          "base_uri": "https://localhost:8080/"
        },
        "outputId": "f06fce0b-08b6-4212-ad3c-c3834cb9315f"
      },
      "execution_count": 15,
      "outputs": [
        {
          "output_type": "stream",
          "name": "stdout",
          "text": [
            "response:\n",
            "GenerateContentResponse(\n",
            "    done=True,\n",
            "    iterator=None,\n",
            "    result=protos.GenerateContentResponse({\n",
            "      \"candidates\": [\n",
            "        {\n",
            "          \"content\": {\n",
            "            \"parts\": [\n",
            "              {\n",
            "                \"text\": \"Google is owned by Alphabet Inc. The founders of Google, Larry Page and Sergey Brin, are also the founders of Alphabet Inc. and hold controlling stakes in the company. Sundar Pichai is the CEO of both Google and Alphabet.\\n\"\n",
            "              }\n",
            "            ],\n",
            "            \"role\": \"model\"\n",
            "          },\n",
            "          \"finish_reason\": \"STOP\",\n",
            "          \"avg_logprobs\": -0.12908642490704855\n",
            "        }\n",
            "      ],\n",
            "      \"usage_metadata\": {\n",
            "        \"prompt_token_count\": 6,\n",
            "        \"candidates_token_count\": 48,\n",
            "        \"total_token_count\": 54\n",
            "      },\n",
            "      \"model_version\": \"gemini-2.0-flash\"\n",
            "    }),\n",
            ")\n"
          ]
        }
      ]
    },
    {
      "cell_type": "code",
      "source": [
        "# Get Text Response\n",
        "print(response.text)\n",
        "\n",
        "# Get Model Version\n",
        "print(f\"\\nModel Version: {response.model_version}\")"
      ],
      "metadata": {
        "id": "pvNv5XxEvKhA",
        "colab": {
          "base_uri": "https://localhost:8080/"
        },
        "outputId": "60f22bdb-2ea4-43a0-837d-dc13c39ed403"
      },
      "execution_count": 16,
      "outputs": [
        {
          "output_type": "stream",
          "name": "stdout",
          "text": [
            "Google is owned by Alphabet Inc. The founders of Google, Larry Page and Sergey Brin, are also the founders of Alphabet Inc. and hold controlling stakes in the company. Sundar Pichai is the CEO of both Google and Alphabet.\n",
            "\n",
            "\n",
            "Model Version: gemini-2.0-flash\n"
          ]
        }
      ]
    },
    {
      "cell_type": "markdown",
      "source": [
        "# Resume Analysis"
      ],
      "metadata": {
        "id": "ARkKY7i2vkdJ"
      }
    },
    {
      "cell_type": "code",
      "source": [
        "def analyze_resume(resume_text):\n",
        "    if not resume_text:\n",
        "        return {\"error\": \"Resume text is required for analysis.\"}\n",
        "\n",
        "    model = genai.GenerativeModel(\"gemini-2.0-flash\")\n",
        "\n",
        "    base_prompt = f\"\"\"\n",
        "    You are an experienced HR with technical knowledge in one of these roles: Data Scientist, Data Analyst, DevOps Engineer, Machine Learning Engineer, Prompt Engineer, AI Engineer, Full Stack Web Developer, Big Data Engineer, Marketing Analyst, HR Manager, or Software Developer; review the provided resume and give a professional assessment on job fit, list existing skills, suggest skills to improve, recommend relevant courses, and highlight key strengths and weaknesses.\n",
        "\n",
        "    Resume:\n",
        "    {resume_text}\n",
        "    \"\"\"\n",
        "\n",
        "    response = model.generate_content(base_prompt)\n",
        "\n",
        "    analysis = response.text.strip()\n",
        "    return analysis"
      ],
      "metadata": {
        "id": "R0tc_-M8vsHb"
      },
      "execution_count": 17,
      "outputs": []
    },
    {
      "cell_type": "code",
      "source": [
        "# Print Analysis\n",
        "result = analyze_resume(resume_text)\n",
        "print(result)\n",
        "\n",
        "# Save Result to TXT file\n",
        "with open(\"/content/drive/MyDrive/Python for Data Science/resume_ai/analysis/resume_analysis.txt\", \"w\") as file:\n",
        "    file.write(result)"
      ],
      "metadata": {
        "id": "8tuLzHERwwV3",
        "colab": {
          "base_uri": "https://localhost:8080/",
          "height": 1000
        },
        "outputId": "b3b6fba3-4b57-4850-d5ed-bd46e9fc852e"
      },
      "execution_count": 18,
      "outputs": [
        {
          "output_type": "stream",
          "name": "stdout",
          "text": [
            "Okay, here's a professional assessment of Nishchal Kansara's resume, focusing on his fit for Data Science roles. I'll be using my experience as an HR professional with a strong technical understanding of Data Science to provide actionable advice.\n",
            "\n",
            "**Overall Impression:**\n",
            "\n",
            "Nishchal's resume presents him as a motivated and enthusiastic individual with a developing interest in Data Science. He has taken initiative in personal projects and internships to gain practical experience. The resume, however, needs some refinement to better highlight his Data Science skills and potential. The overall impression is that Nishchal is at an entry level for a Data Science role.\n",
            "\n",
            "**Job Fit Assessment (Assuming Entry-Level Data Analyst or Data Science Intern Role):**\n",
            "\n",
            "*   **Good Fit:** For entry-level positions like Data Science Intern or Junior Data Analyst roles, Nishchal's resume shows promise. His project experience and self-learning indicate a genuine interest and proactive approach.\n",
            "*   **Needs Improvement:** He needs to clearly articulate the impact of his projects and demonstrate a deeper understanding of the underlying concepts. The resume is also repetitive with project technologies.\n",
            "\n",
            "**Existing Skills:**\n",
            "\n",
            "*   **Programming:**\n",
            "    *   PHP (Basic - Based on Web Development Experience)\n",
            "    *   Python (Basics, Data Science Focused)\n",
            "*   **Data Science & Machine Learning:**\n",
            "    *   Data Manipulation (Pandas, NumPy)\n",
            "    *   Data Visualization (Matplotlib)\n",
            "    *   Machine Learning (Scikit-learn, Logistic Regression, Random Forest, KNN, XGBoost, Linear Regression, SVR, Decision Tree)\n",
            "    *   NLP (Basic - Sentiment Analysis)\n",
            "*   **Database:**\n",
            "    *   MySQL (Basic)\n",
            "*   **Web Development:**\n",
            "    *   HTML, CSS, JavaScript (Basic - Framework: Bootstrap)\n",
            "*   **Other:**\n",
            "    *   Git (Based on GitHub link)\n",
            "\n",
            "**Skills to Improve:**\n",
            "\n",
            "*   **Python Proficiency:**  \"Basics of Python\" needs to become \"Proficient in Python.\" This requires deeper understanding of data structures, algorithms, and object-oriented programming.\n",
            "*   **Data Science Depth:** While he lists various ML algorithms, he needs to demonstrate a deeper understanding of their underlying principles, assumptions, and appropriate use cases.  Focus on model evaluation metrics, hyperparameter tuning, and feature engineering.\n",
            "*   **SQL:**  More than basic knowledge is needed. He should be comfortable writing complex queries, understanding database design, and performing data aggregation.\n",
            "*   **Cloud Computing:** Exposure to cloud platforms like AWS, Azure, or GCP is increasingly important. Familiarity with cloud-based data storage (S3, Azure Blob Storage) and data processing tools (e.g., AWS SageMaker, Azure Machine Learning) would be beneficial.\n",
            "*   **Big Data Technologies:**  While not essential for all entry-level roles, exposure to tools like Spark or Hadoop could be advantageous, especially if he wants to work with large datasets.\n",
            "*   **Communication & Storytelling:** He needs to be able to clearly communicate the results of his analysis and projects to both technical and non-technical audiences. Practice presenting findings and creating compelling visualizations.\n",
            "*   **Version Control:** Strong proficiency in Git is essential for collaborative work.\n",
            "\n",
            "**Recommended Courses/Certifications:**\n",
            "\n",
            "*   **Python for Data Science Specialization (Coursera):**  A comprehensive course covering Python fundamentals, data analysis with Pandas and NumPy, data visualization, and machine learning.\n",
            "*   **SQL for Data Science (Coursera, DataCamp):**  Learn to write complex SQL queries, perform data aggregation, and understand database design.\n",
            "*   **Machine Learning Specialization (Coursera):**  A foundational course on machine learning, covering various algorithms, model evaluation, and hyperparameter tuning.\n",
            "*   **AWS Certified Cloud Practitioner/Azure Fundamentals:** To gain basic understanding of cloud computing concepts and services.\n",
            "*   **DataCamp:** Offers a wide range of courses on data science tools and technologies, including Python, SQL, R, and machine learning.\n",
            "*   **Kaggle Learn:** Excellent resource for practical data science tutorials and competitions.\n",
            "\n",
            "**Key Strengths:**\n",
            "\n",
            "*   **Proactive Learning:**  The self-made projects and internships demonstrate a willingness to learn and apply his skills.\n",
            "*   **Diverse Project Portfolio:**  He has worked on a variety of Data Science projects, exposing him to different problem domains and techniques.\n",
            "*   **Web Development Background:** His experience with PHP, MySQL, and Bootstrap can be an asset, especially in roles that require building data-driven web applications.\n",
            "*   **Good Online Presence:** The inclusion of links to his personal website, GitHub, and LinkedIn profile shows that he is actively building his online presence.\n",
            "\n",
            "**Weaknesses:**\n",
            "\n",
            "*   **Limited Depth:**  The resume lists many skills and projects, but lacks depth in terms of explaining the methodologies used, the challenges faced, and the results achieved.\n",
            "*   **Lack of Quantification:** He needs to quantify his accomplishments whenever possible. For example, instead of saying \"Developed a Credit Card Fraud Detection model using XGBoost,\" he could say \"Developed a Credit Card Fraud Detection model using XGBoost that achieved X% accuracy and reduced false positives by Y%.\"\n",
            "*   **Repetitive Technology Listing:** Avoid listing the same technologies for each project.  Instead, highlight unique technologies or approaches used in each project.\n",
            "*   **Weak Academic Credentials:** The S.S.C score is low and should be excluded as it isn't relevant to the Data Science field.\n",
            "*   **Inconsistent Date Formatting:** The formatting of dates throughout the resume is inconsistent and should be standardized for a more professional look.\n",
            "\n",
            "**Recommendations for Resume Improvement:**\n",
            "\n",
            "*   **Quantify Results:**  Whenever possible, quantify the impact of his projects using metrics like accuracy, precision, recall, F1-score, or cost savings.\n",
            "*   **Elaborate on Methodologies:**  Briefly explain the methodologies used in each project and the reasoning behind them.\n",
            "*   **Highlight Challenges and Solutions:**  Describe any challenges he faced during his projects and how he overcame them.\n",
            "*   **Tailor the Resume:**  Customize the resume for each job application, highlighting the skills and experiences that are most relevant to the specific role.\n",
            "*   **Refine Project Descriptions:** Focus on the problem, solution, and impact of each project, rather than just listing the technologies used.\n",
            "*   **Showcase Deeper Understanding:**  Demonstrate a deeper understanding of the underlying concepts of the algorithms and techniques he has used.\n",
            "*   **Update Technical Skills Section:** Clearly separate Data Science and Programming Language skills, and use proficiency levels (e.g. \"Proficient in Python\", \"Intermediate SQL\").\n",
            "*   **Remove Unnecessary Information:** Remove the S.S.C. information as it is not relevant.\n",
            "*   **Fix Formatting:** Ensure the resume is properly formatted with consistent fonts, spacing, and date formats.\n",
            "*   **Use Action Verbs:** Start each bullet point with a strong action verb (e.g., \"Developed,\" \"Implemented,\" \"Analyzed,\" \"Optimized\").\n",
            "\n",
            "By addressing these weaknesses and improving his skills, Nishchal can significantly increase his chances of landing a Data Science role. He has a solid foundation to build upon, and with focused effort, he can achieve his career goals. Remember that showcasing impact and tangible results will significantly improve his resume.\n"
          ]
        }
      ]
    },
    {
      "cell_type": "markdown",
      "source": [
        "# Resume Analysis with Job Description"
      ],
      "metadata": {
        "id": "YoatwWwx-s4k"
      }
    },
    {
      "cell_type": "code",
      "source": [
        "def analyze_resume_jd(resume_text, job_description):\n",
        "    if not resume_text:\n",
        "        return {\"error\": \"Resume text is required for analysis.\"}\n",
        "    if not job_description:\n",
        "        return {\"error\": \"Job Description is required for analysis.\"}\n",
        "\n",
        "    model = genai.GenerativeModel(\"gemini-2.0-flash\")\n",
        "\n",
        "    base_prompt = f\"\"\"\n",
        "    You are an experienced HR with technical knowledge in one of these roles: Data Scientist, Data Analyst, DevOps Engineer, Machine Learning Engineer, Prompt Engineer, AI Engineer, Full Stack Web Developer, Big Data Engineer, Marketing Analyst, HR Manager, or Software Developer; review the provided resume and give a professional assessment on job fit, list existing skills, suggest skills to improve, recommend relevant courses, and highlight key strengths and weaknesses.\n",
        "\n",
        "    Resume:\n",
        "    {resume_text}\n",
        "    \"\"\"\n",
        "\n",
        "    if job_description:\n",
        "        base_prompt += f\"\"\"\n",
        "        Now, compare the candidate's resume with the job description below:\n",
        "\n",
        "        Job Description:\n",
        "        {job_description}\n",
        "\n",
        "        Your analysis should cover:\n",
        "          -How well the resume fits the job role\n",
        "          -Which skills match the job requirements\n",
        "          -Missing or underdeveloped skills\n",
        "          -Strengths and weaknesses related to the job\n",
        "          -Recommend relevant skills or certifications to improve the candidate's profile\n",
        "          -Suggest suitable courses or training programs based on gaps identified.\n",
        "          -Evaluate the candidate’s readiness for a technical role.\n",
        "          -List both technical and soft skills found in the resume.\n",
        "          -Suggest specific projects the candidate should complete to address gaps\n",
        "        \"\"\"\n",
        "\n",
        "    response = model.generate_content(base_prompt)\n",
        "\n",
        "    analysis = response.text.strip()\n",
        "    return analysis"
      ],
      "metadata": {
        "id": "7ud5iytY-slJ"
      },
      "execution_count": 19,
      "outputs": []
    },
    {
      "cell_type": "code",
      "source": [
        "# Print Analysis\n",
        "result_jd = analyze_resume_jd(resume_text, job_description)\n",
        "print(result_jd)\n",
        "\n",
        "# Save Result to TXT file\n",
        "with open(\"/content/drive/MyDrive/Python for Data Science/resume_ai/analysis/resume_analysis_jd.txt\", \"w\") as file:\n",
        "    file.write(result_jd)"
      ],
      "metadata": {
        "id": "ZCPsHprW_WXM",
        "colab": {
          "base_uri": "https://localhost:8080/",
          "height": 1000
        },
        "outputId": "277c0b15-88aa-48c4-be86-233202bc0798"
      },
      "execution_count": 20,
      "outputs": [
        {
          "output_type": "stream",
          "name": "stdout",
          "text": [
            "Okay, here's a comprehensive analysis of Nishchal Kansara's resume, specifically in relation to the AI/ML Trainer job description provided.\n",
            "\n",
            "**Overall Fit for the Job Role: Low**\n",
            "\n",
            "Nishchal's resume demonstrates a strong interest in Data Science and Machine Learning, with several relevant projects. However, he is a student with minimal experience (1 month Data Science internship) and lacks the core experience of **teaching or training** required for this role.  The job description explicitly requires \"at least 1.5 years of experience teaching professionals or students.\"  While he has some project experience, it's not deep or broad enough to translate into being a credible trainer.  His skills are at a basic/intermediate level, rather than the \"Excellent understanding\" and \"Expertise\" demanded by the job posting.\n",
            "\n",
            "**Skills Match:**\n",
            "\n",
            "Here's a breakdown of skills that align (to some extent) with the job requirements:\n",
            "\n",
            "*   **AI/ML Fundamentals:**  He has exposure to basic ML algorithms (Logistic Regression, Random Forest, KNN, XGBoost) through his projects.\n",
            "*   **Python:** He states \"Basics of Python, with a focus on Data Science.\" This is a start, but falls short of the required \"Expertise\".\n",
            "*   **NumPy and Pandas:** Mentions knowledge of data manipulation and analysis with Pandas and NumPy.\n",
            "*   **Matplotlib:**  Mentions Data visualization with Matplotlib.\n",
            "*   **Scikit-learn:**  Mentions using Scikit-learn.\n",
            "*   **NLP:** Listed as skills in Zomato Pulse project, which is great.\n",
            "*   **Project Experience:**  The various projects (Titanic, Movie Rating, Sales Prediction, Fraud Detection, Loan Eligibility, Zomato Pulse) show a willingness to learn and apply ML concepts.\n",
            "*   **Soft Skills:** \"Self-Learner,\" \"Quick-Learner,\" \"Enthusiast\" - These are positive attributes for someone willing to learn and adapt.\n",
            "\n",
            "**Missing or Underdeveloped Skills:**\n",
            "\n",
            "*   **Teaching/Training Experience:**  This is the biggest gap. There is absolutely no mention of any experience teaching, mentoring, or even presenting technical information to others.\n",
            "*   **Deep Learning:** No mention of experience with Deep Learning, one of the key concepts needed for the job.\n",
            "*   **TensorFlow and PyTorch:** This are tools where he needs to build some experience.\n",
            "*   **OpenCV:** This is also a tool that is required for the job.\n",
            "*   **Cloud AI Platforms (AWS/GCP/Azure):** No mention of experience with any cloud platforms, a significant disadvantage.\n",
            "*   **Deployment Skills (Flask, FastAPI, Streamlit):** Only Streamlit is mentioned, but only for a chatbot project.  Deployment experience is important to demonstrate a full understanding of the ML lifecycle.\n",
            "*   **Generative AI / LLMs:**  Only Ollama Chatbot is mentioned, so there is some experience here.\n",
            "*   **Communication/Presentation Skills:** While \"Quick-Learner\" and \"Enthusiast\" are good, he needs to *demonstrate* excellent communication skills, which are crucial for training.\n",
            "\n",
            "**Strengths:**\n",
            "\n",
            "*   **Enthusiasm and Willingness to Learn:**  His self-proclaimed status as a \"Self-Learner\" and \"Enthusiast\" suggests he is motivated to learn.\n",
            "*   **Project Experience:** The projects, while basic, show he has attempted to apply ML concepts.\n",
            "*   **Basic Foundation in Data Science Tools:** He has some familiarity with Python, Pandas, NumPy, and Scikit-learn.\n",
            "*   **Portfolio:** He has a personal website and GitHub profile, which is great for showcasing his work.\n",
            "\n",
            "**Weaknesses:**\n",
            "\n",
            "*   **Lack of Professional Experience:**  Only a 1-month internship in Data Science.\n",
            "*   **Insufficient Training/Teaching Experience:** The *critical* missing piece.\n",
            "*   **Shallow Technical Depth:**  His skills are at a beginner/intermediate level and don't meet the \"Expertise\" requirements.\n",
            "*   **Lack of Cloud Experience:** No experience with cloud platforms.\n",
            "*   **Weak Academic Performance:** While Diploma CGPA is good, the SSC score of 54.5% is a red flag.\n",
            "\n",
            "**Recommendations for Improvement:**\n",
            "\n",
            "*   **Focus on Gaining Training Experience:**\n",
            "    *   **Volunteer to Tutor:** Tutor students in math, science, or programming.\n",
            "    *   **Lead Workshops:** Offer free workshops on basic Python or data science concepts to local community groups.\n",
            "    *   **Create Online Tutorials:**  Develop YouTube tutorials or blog posts explaining ML concepts or demonstrating projects.\n",
            "    *   **Assist in University Courses:**  See if he can volunteer as a teaching assistant for relevant university courses.\n",
            "*   **Deepen Technical Skills:**\n",
            "    *   **Online Courses:** Take in-depth courses on TensorFlow, PyTorch, Deep Learning, and Cloud AI platforms.\n",
            "    *   **Advanced Projects:** Work on more complex projects that demonstrate a deeper understanding of ML principles and deployment techniques.\n",
            "*   **Obtain Relevant Certifications:**\n",
            "    *   TensorFlow Developer Certification\n",
            "    *   AWS Certified Machine Learning - Specialty\n",
            "    *   Microsoft Certified: Azure AI Engineer Associate\n",
            "    *   Coursera Machine Learning Specialization (Andrew Ng)\n",
            "\n",
            "**Suitable Courses/Training Programs:**\n",
            "\n",
            "*   **Deep Learning Specialization (Coursera, deeplearning.ai):**  Essential for gaining a solid foundation in deep learning.\n",
            "*   **TensorFlow/PyTorch Tutorials and Courses (TensorFlow.org, PyTorch.org, Udemy, Coursera, Fast.ai):**  Learn the frameworks and best practices.\n",
            "*   **Cloud AI Platform Courses (AWS, GCP, Azure):** Gain hands-on experience with cloud services.\n",
            "*   **\"Teaching for Trainers\" or \"Presentation Skills\" Workshops:**  Focus on developing effective communication and training techniques.\n",
            "\n",
            "**Readiness for a Technical Role:**\n",
            "\n",
            "Based on the current resume and requirements of the job description, Nishchal is **not ready** for a technical training role that requires expertise in AI/ML technologies and teaching skills. He needs to develop a strong foundation in data science concepts and improve his teaching skills before he can be considered for the role.\n",
            "\n",
            "**Skills List from Resume:**\n",
            "\n",
            "*   **Technical Skills:**\n",
            "    *   PHP\n",
            "    *   HTML\n",
            "    *   CSS\n",
            "    *   JavaScript\n",
            "    *   Python\n",
            "    *   Pandas\n",
            "    *   NumPy\n",
            "    *   Matplotlib\n",
            "    *   Scikit-learn\n",
            "    *   MySQL\n",
            "    *   Bootstrap\n",
            "    *   NLP\n",
            "    *   Streamlit\n",
            "*   **Soft Skills:**\n",
            "    *   Self-Learner\n",
            "    *   Quick-Learner\n",
            "    *   Enthusiast\n",
            "    *   Coding\n",
            "    *   Designing\n",
            "\n",
            "**Specific Projects to Address Gaps:**\n",
            "\n",
            "*   **End-to-End Deep Learning Project:**  Develop a complete project using TensorFlow or PyTorch, including data preprocessing, model building, training, evaluation, and deployment (e.g., image classification, object detection, NLP task). Deploy it on a cloud platform (AWS, GCP, or Azure).\n",
            "*   **Generative AI Project:**  Build a project using a pre-trained LLM (like GPT-3, Llama 2) for a specific application (e.g., text summarization, question answering, chatbot).\n",
            "*   **Workshop Materials/Tutorials:** Create a set of tutorials or workshop materials on a specific ML topic (e.g., \"Introduction to Linear Regression,\" \"Building a CNN for Image Classification\"). Present these materials to a small group and get feedback.\n",
            "*   **Open Source Contributions:** Contribute to an open-source machine learning project.\n",
            "\n",
            "In summary, while Nishchal demonstrates potential and enthusiasm, he has significant gaps to fill before being a viable candidate for this AI/ML Trainer role.  He needs to focus on gaining teaching/training experience, deepening his technical skills, and building a more impressive portfolio.\n"
          ]
        }
      ]
    }
  ]
}